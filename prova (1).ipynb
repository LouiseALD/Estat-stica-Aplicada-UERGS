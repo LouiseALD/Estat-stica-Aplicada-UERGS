{
  "cells": [
    {
      "cell_type": "markdown",
      "source": [
        "# PROVA"
      ],
      "metadata": {
        "nteract": {
          "transient": {
            "deleting": false
          }
        }
      }
    },
    {
      "cell_type": "markdown",
      "source": [
        "#####  \n",
        "##### \n",
        "##### Os alunos acessarão o arquivo estaplicp1w.pdf dos enunciados da prova no ambiente \n",
        "##### Moodle da disciplina, além do arquivo de dados estaplicp1-dados.xlsx. Ao final, os alunos devem escrever\n",
        "##### as respostas numéricas (com o número indicado de casas decimais) no ambiente Moodle da disciplina\n",
        "##### (haverá um link indicando a atividade). Caso uma resposta tenha menos casas decimais significativas do \n",
        "##### que o indicado, não é necessário preencher com zeros. Os valores monetários devem ser escritos sem \n",
        "##### símbolos monetários (R$), sem ponto separador de milhar, mas sim com vírgula para separação da parte \n",
        "##### decimal."
      ],
      "metadata": {
        "nteract": {
          "transient": {
            "deleting": false
          }
        }
      }
    },
    {
      "cell_type": "code",
      "source": [
        "import pandas as pd\n",
        "import numpy as np\n",
        "from scipy import stats"
      ],
      "outputs": [],
      "execution_count": 8,
      "metadata": {
        "jupyter": {
          "source_hidden": false,
          "outputs_hidden": false
        },
        "nteract": {
          "transient": {
            "deleting": false
          }
        },
        "gather": {
          "logged": 1726611749499
        }
      }
    },
    {
      "cell_type": "code",
      "source": [
        "\n",
        "# Caminho para o arquivo\n",
        "arquivo_excel = 'estaplicp1-dados.xlsx'\n",
        "\n",
        "# Carregar a planilha em um DataFrame\n",
        "df = pd.read_excel(arquivo_excel)\n",
        "\n",
        "# Exibir as primeiras linhas do arquivo\n",
        "df\n"
      ],
      "outputs": [
        {
          "output_type": "execute_result",
          "execution_count": 44,
          "data": {
            "text/plain": "    Respondente Estado  Salário Bruto\n0             1     PR        4834.74\n1             2     PR        4544.16\n2             3     PR        4091.02\n3             4     PR        3964.93\n4             5     PR        5491.01\n5             6     PR        3071.98\n6             7     PR        5564.66\n7             8     PR        4434.18\n8             9     PR        4343.16\n9            10     PR        6902.01\n10           11     PR        4044.36\n11           12     SC        6188.98\n12           13     SC        4836.08\n13           14     SC        4823.71\n14           15     SC        4760.23\n15           16     SC        5563.55\n16           17     SC        4175.56\n17           18     SC        3113.55\n18           19     SC        4440.28\n19           20     SC        5360.07\n20           21     SC        5248.27\n21           22     RS        5320.33\n22           23     RS        5150.09\n23           24     RS        3681.64\n24           25     RS        3612.80\n25           26     RS        3759.36\n26           27     RS        6261.60\n27           28     RS        5054.21\n28           29     RS        2616.97\n29           30     RS        5012.34\n30           31     RS        3814.03\n31           32     RS        4036.06\n32           33     RS        6354.04\n33           34     RS        4567.91",
            "text/html": "<div>\n<style scoped>\n    .dataframe tbody tr th:only-of-type {\n        vertical-align: middle;\n    }\n\n    .dataframe tbody tr th {\n        vertical-align: top;\n    }\n\n    .dataframe thead th {\n        text-align: right;\n    }\n</style>\n<table border=\"1\" class=\"dataframe\">\n  <thead>\n    <tr style=\"text-align: right;\">\n      <th></th>\n      <th>Respondente</th>\n      <th>Estado</th>\n      <th>Salário Bruto</th>\n    </tr>\n  </thead>\n  <tbody>\n    <tr>\n      <th>0</th>\n      <td>1</td>\n      <td>PR</td>\n      <td>4834.74</td>\n    </tr>\n    <tr>\n      <th>1</th>\n      <td>2</td>\n      <td>PR</td>\n      <td>4544.16</td>\n    </tr>\n    <tr>\n      <th>2</th>\n      <td>3</td>\n      <td>PR</td>\n      <td>4091.02</td>\n    </tr>\n    <tr>\n      <th>3</th>\n      <td>4</td>\n      <td>PR</td>\n      <td>3964.93</td>\n    </tr>\n    <tr>\n      <th>4</th>\n      <td>5</td>\n      <td>PR</td>\n      <td>5491.01</td>\n    </tr>\n    <tr>\n      <th>5</th>\n      <td>6</td>\n      <td>PR</td>\n      <td>3071.98</td>\n    </tr>\n    <tr>\n      <th>6</th>\n      <td>7</td>\n      <td>PR</td>\n      <td>5564.66</td>\n    </tr>\n    <tr>\n      <th>7</th>\n      <td>8</td>\n      <td>PR</td>\n      <td>4434.18</td>\n    </tr>\n    <tr>\n      <th>8</th>\n      <td>9</td>\n      <td>PR</td>\n      <td>4343.16</td>\n    </tr>\n    <tr>\n      <th>9</th>\n      <td>10</td>\n      <td>PR</td>\n      <td>6902.01</td>\n    </tr>\n    <tr>\n      <th>10</th>\n      <td>11</td>\n      <td>PR</td>\n      <td>4044.36</td>\n    </tr>\n    <tr>\n      <th>11</th>\n      <td>12</td>\n      <td>SC</td>\n      <td>6188.98</td>\n    </tr>\n    <tr>\n      <th>12</th>\n      <td>13</td>\n      <td>SC</td>\n      <td>4836.08</td>\n    </tr>\n    <tr>\n      <th>13</th>\n      <td>14</td>\n      <td>SC</td>\n      <td>4823.71</td>\n    </tr>\n    <tr>\n      <th>14</th>\n      <td>15</td>\n      <td>SC</td>\n      <td>4760.23</td>\n    </tr>\n    <tr>\n      <th>15</th>\n      <td>16</td>\n      <td>SC</td>\n      <td>5563.55</td>\n    </tr>\n    <tr>\n      <th>16</th>\n      <td>17</td>\n      <td>SC</td>\n      <td>4175.56</td>\n    </tr>\n    <tr>\n      <th>17</th>\n      <td>18</td>\n      <td>SC</td>\n      <td>3113.55</td>\n    </tr>\n    <tr>\n      <th>18</th>\n      <td>19</td>\n      <td>SC</td>\n      <td>4440.28</td>\n    </tr>\n    <tr>\n      <th>19</th>\n      <td>20</td>\n      <td>SC</td>\n      <td>5360.07</td>\n    </tr>\n    <tr>\n      <th>20</th>\n      <td>21</td>\n      <td>SC</td>\n      <td>5248.27</td>\n    </tr>\n    <tr>\n      <th>21</th>\n      <td>22</td>\n      <td>RS</td>\n      <td>5320.33</td>\n    </tr>\n    <tr>\n      <th>22</th>\n      <td>23</td>\n      <td>RS</td>\n      <td>5150.09</td>\n    </tr>\n    <tr>\n      <th>23</th>\n      <td>24</td>\n      <td>RS</td>\n      <td>3681.64</td>\n    </tr>\n    <tr>\n      <th>24</th>\n      <td>25</td>\n      <td>RS</td>\n      <td>3612.80</td>\n    </tr>\n    <tr>\n      <th>25</th>\n      <td>26</td>\n      <td>RS</td>\n      <td>3759.36</td>\n    </tr>\n    <tr>\n      <th>26</th>\n      <td>27</td>\n      <td>RS</td>\n      <td>6261.60</td>\n    </tr>\n    <tr>\n      <th>27</th>\n      <td>28</td>\n      <td>RS</td>\n      <td>5054.21</td>\n    </tr>\n    <tr>\n      <th>28</th>\n      <td>29</td>\n      <td>RS</td>\n      <td>2616.97</td>\n    </tr>\n    <tr>\n      <th>29</th>\n      <td>30</td>\n      <td>RS</td>\n      <td>5012.34</td>\n    </tr>\n    <tr>\n      <th>30</th>\n      <td>31</td>\n      <td>RS</td>\n      <td>3814.03</td>\n    </tr>\n    <tr>\n      <th>31</th>\n      <td>32</td>\n      <td>RS</td>\n      <td>4036.06</td>\n    </tr>\n    <tr>\n      <th>32</th>\n      <td>33</td>\n      <td>RS</td>\n      <td>6354.04</td>\n    </tr>\n    <tr>\n      <th>33</th>\n      <td>34</td>\n      <td>RS</td>\n      <td>4567.91</td>\n    </tr>\n  </tbody>\n</table>\n</div>"
          },
          "metadata": {}
        }
      ],
      "execution_count": 44,
      "metadata": {
        "gather": {
          "logged": 1726619212218
        }
      }
    },
    {
      "cell_type": "markdown",
      "source": [],
      "metadata": {
        "nteract": {
          "transient": {
            "deleting": false
          }
        }
      }
    },
    {
      "cell_type": "markdown",
      "source": [
        "##### a) [0,2 pt] Qual é o salário médio de todos os enfermeiros participantes? [2 casas decimais]\n"
      ],
      "metadata": {
        "nteract": {
          "transient": {
            "deleting": false
          }
        }
      }
    },
    {
      "cell_type": "code",
      "source": [
        "media = df['Salário Bruto'].mean()\n",
        "media\n",
        "print(f\"O salário médio dos enfermeiros participantes é R$: {media:.2f}\")\n"
      ],
      "outputs": [
        {
          "output_type": "stream",
          "name": "stdout",
          "text": "O salário médio dos enfermeiros participantes é R$: 4677.58\n"
        }
      ],
      "execution_count": 45,
      "metadata": {
        "jupyter": {
          "source_hidden": false,
          "outputs_hidden": false
        },
        "nteract": {
          "transient": {
            "deleting": false
          }
        },
        "gather": {
          "logged": 1726619215947
        }
      }
    },
    {
      "cell_type": "markdown",
      "source": [
        "##### b) [0,5 pt] Qual é o erro máximo cometido, ao nível de 5%, na estimativa do salário médio dos \n",
        "##### enfermeiros da região? [2 casas decimais]\n"
      ],
      "metadata": {
        "nteract": {
          "transient": {
            "deleting": false
          }
        }
      }
    },
    {
      "cell_type": "markdown",
      "source": [
        "Para calcular o erro máximo cometido ao nível de confiança de 5% (erro padrão ou erro da estimativa), podemos utilizar a seguinte fórmula:\n",
        "\n",
        "**𝐸=𝑍𝛼/2 × 𝑠/ √𝑛\n",
        "**\n",
        " \n",
        "Onde:\n",
        "\n",
        "- **𝐸** E é o erro máximo cometido.\n",
        "- **𝐸=𝑍𝛼/2 × 𝑠/ √𝑛** é o valor crítico da distribuição normal para o nível de confiança de 95% (que corresponde a 1,96 para um nível de 5%).\n",
        "- **𝑠** é o desvio padrão da amostra.\n",
        "- **n** é o número de observações."
      ],
      "metadata": {
        "nteract": {
          "transient": {
            "deleting": false
          }
        }
      }
    },
    {
      "cell_type": "code",
      "source": [
        "# Definir o nível de confiança (95%)\n",
        "nivel_confianca = 0.95\n",
        "z = stats.norm.ppf(1 - (1 - nivel_confianca) / 2)  # Z valor para 95%\n",
        "\n",
        "# Calcular o desvio padrão (s) e o número de observações (n)\n",
        "desvio_padrao = df['Salário Bruto'].std()\n",
        "n = len(df)\n",
        "\n",
        "# Calcular o erro máximo\n",
        "erro_maximo = z * (desvio_padrao / np.sqrt(n))\n",
        "\n",
        "# Exibir o erro máximo, com 2 casas decimais\n",
        "print(f\"O erro máximo cometido ao nível de 5% é: {erro_maximo:.2f}\")"
      ],
      "outputs": [
        {
          "output_type": "stream",
          "name": "stdout",
          "text": "O erro máximo cometido ao nível de 5% é: 329.46\n"
        }
      ],
      "execution_count": 12,
      "metadata": {
        "jupyter": {
          "source_hidden": false,
          "outputs_hidden": false
        },
        "nteract": {
          "transient": {
            "deleting": false
          }
        },
        "gather": {
          "logged": 1726611775795
        }
      }
    },
    {
      "cell_type": "markdown",
      "source": [
        "##### c) [0,2 pt] Qual é o limite inferior do intervalo de confiança, ao nível de 95%, na estimativa do salário \n",
        "médio dos enfermeiros da região? [2 casas decimais]"
      ],
      "metadata": {
        "nteract": {
          "transient": {
            "deleting": false
          }
        }
      }
    },
    {
      "cell_type": "code",
      "source": [
        "# Calcular o erro padrão\n",
        "erro_padrao = desvio_padrao / np.sqrt(n)\n",
        "\n",
        "# Calcular o limite inferior do intervalo de confiança\n",
        "limite_inferior = media - z * erro_padrao\n",
        "\n",
        "# Exibir o limite inferior com 2 casas decimais\n",
        "print(f\"O limite inferior do intervalo de confiança ao nível de 95% é: {limite_inferior:.2f}\")"
      ],
      "outputs": [
        {
          "output_type": "stream",
          "name": "stdout",
          "text": "O limite inferior do intervalo de confiança ao nível de 95% é: 4348.12\n"
        }
      ],
      "execution_count": 15,
      "metadata": {
        "jupyter": {
          "source_hidden": false,
          "outputs_hidden": false
        },
        "nteract": {
          "transient": {
            "deleting": false
          }
        },
        "gather": {
          "logged": 1726612125523
        }
      }
    },
    {
      "cell_type": "markdown",
      "source": [
        "##### d) [0,2 pt] Qual é o limite superior do intervalo de confiança, ao nível de 95%, na estimativa do \n",
        "##### salário médio dos enfermeiros da região? [2 casas decimais]\n"
      ],
      "metadata": {
        "nteract": {
          "transient": {
            "deleting": false
          }
        }
      }
    },
    {
      "cell_type": "markdown",
      "source": [
        "LS= \n",
        "x\n",
        "ˉ\n",
        " +Z \n",
        "α/2\n",
        "​\n",
        " × \n",
        "n\n",
        "​\n",
        " \n",
        "s\n",
        "​\n"
      ],
      "metadata": {
        "nteract": {
          "transient": {
            "deleting": false
          }
        }
      }
    },
    {
      "cell_type": "code",
      "source": [
        "erro_padrao = desvio_padrao / np.sqrt(n)\n",
        "limite_superior = media + z * erro_padrao\n",
        "print(f\"O limite superior do intervalo de confiança ao nível de 95% é: {limite_superior:.2f}\")\n",
        "\n"
      ],
      "outputs": [
        {
          "output_type": "stream",
          "name": "stdout",
          "text": "O limite superior do intervalo de confiança ao nível de 95% é: 5007.05\n"
        }
      ],
      "execution_count": 16,
      "metadata": {
        "jupyter": {
          "source_hidden": false,
          "outputs_hidden": false
        },
        "nteract": {
          "transient": {
            "deleting": false
          }
        },
        "gather": {
          "logged": 1726612234248
        }
      }
    },
    {
      "cell_type": "markdown",
      "source": [
        "##### e) [0,4 pt] Qual deveria ser o número de salários de enfermeiros consultados para que o erro máximo \n",
        "##### fosse de R$ 150 na estimativa do salário médio dos enfermeiros da região, ao nível de 5%? [valor \n",
        "##### inteiro]\n",
        "##### "
      ],
      "metadata": {
        "nteract": {
          "transient": {
            "deleting": false
          }
        }
      }
    },
    {
      "cell_type": "code",
      "source": [
        "# Definir o nível de confiança (95%) e o erro máximo permitido (R$ 150)\n",
        "\n",
        "nivel_confianca = 0.95\n",
        "erro_maximo = 150\n",
        "z = stats.norm.ppf(1 - (1 - nivel_confianca) / 2)  # Z valor para 95%\n",
        "\n",
        "# Calcular o desvio padrão da amostra\n",
        "desvio_padrao = df['Salário Bruto'].std()\n",
        "\n",
        "# Calcular o tamanho da amostra necessário\n",
        "n = (z * desvio_padrao / erro_maximo) ** 2\n",
        "\n",
        "# Arredondar o número de observações para o valor inteiro mais próximo\n",
        "n = int(np.ceil(n))\n",
        "\n",
        "# Exibir o tamanho da amostra necessário\n",
        "print(f\"O número de salários de enfermeiros consultados deve ser: {n}\")"
      ],
      "outputs": [
        {
          "output_type": "stream",
          "name": "stdout",
          "text": "O número de salários de enfermeiros consultados deve ser: 165\n"
        }
      ],
      "execution_count": 18,
      "metadata": {
        "jupyter": {
          "source_hidden": false,
          "outputs_hidden": false
        },
        "nteract": {
          "transient": {
            "deleting": false
          }
        },
        "gather": {
          "logged": 1726612311008
        }
      }
    },
    {
      "cell_type": "markdown",
      "source": [
        "##### f) [0,5 pt] Qual é a fração estimada da população de enfermeiros da região que tem salário de, pelo menos, R$ 4.000? [5 casas decimais] #####"
      ],
      "metadata": {
        "nteract": {
          "transient": {
            "deleting": false
          }
        }
      }
    },
    {
      "cell_type": "code",
      "source": [
        "# Contar o número de enfermeiros com salário de pelo menos R$ 4.000\n",
        "num_acima_4000 = len(df[df['Salário Bruto'] >= 4000])\n",
        "\n",
        "# Contar o total de enfermeiros\n",
        "total_enfermeiros = len(df)\n",
        "\n",
        "# Calcular a fração estimada\n",
        "fracao_estimada = num_acima_4000 / total_enfermeiros\n",
        "\n",
        "# Exibir a fração estimada com 5 casas decimais\n",
        "print(f\"A fração estimada da população de enfermeiros com salário de pelo menos R$ 4.000 é: {fracao_estimada:.5f}\")\n"
      ],
      "outputs": [
        {
          "output_type": "stream",
          "name": "stdout",
          "text": "A fração estimada da população de enfermeiros com salário de pelo menos R$ 4.000 é: 0.76471\n"
        }
      ],
      "execution_count": 40,
      "metadata": {
        "jupyter": {
          "source_hidden": false,
          "outputs_hidden": false
        },
        "nteract": {
          "transient": {
            "deleting": false
          }
        },
        "gather": {
          "logged": 1726616724125
        }
      }
    },
    {
      "cell_type": "markdown",
      "source": [],
      "metadata": {
        "nteract": {
          "transient": {
            "deleting": false
          }
        }
      }
    },
    {
      "cell_type": "markdown",
      "source": [
        "##### g) [0,5 pt] Qual é a fração estimada da população de enfermeiros da região que tem salário de R$ 3.500 a R$ 5.000? [5 casas decimais]"
      ],
      "metadata": {
        "nteract": {
          "transient": {
            "deleting": false
          }
        }
      }
    },
    {
      "cell_type": "markdown",
      "source": [
        "errado"
      ],
      "metadata": {
        "nteract": {
          "transient": {
            "deleting": false
          }
        }
      }
    },
    {
      "cell_type": "code",
      "source": [
        "# Contar o número de enfermeiros com salário entre R$ 3.500 e R$ 5.000\n",
        "num_faixa_salarial = len(df[(df['Salário Bruto'] >= 3500) & (df['Salário Bruto'] <= 5000)])\n",
        "\n",
        "# Contar o total de enfermeiros\n",
        "total_enfermeiros = len(df)\n",
        "\n",
        "# Calcular a fração estimada\n",
        "fracao_estimada = num_faixa_salarial / total_enfermeiros\n",
        "\n",
        "# Exibir a fração estimada com 5 casas decimais\n",
        "print(f\"A fração estimada da população de enfermeiros com salário entre R$ 3.500 e R$ 5.000 é: {fracao_estimada:.5f}\")"
      ],
      "outputs": [
        {
          "output_type": "stream",
          "name": "stdout",
          "text": "A fração estimada da população de enfermeiros com salário entre R$ 3.500 e R$ 5.000 é: 0.52941\n"
        }
      ],
      "execution_count": 20,
      "metadata": {
        "jupyter": {
          "source_hidden": false,
          "outputs_hidden": false
        },
        "nteract": {
          "transient": {
            "deleting": false
          }
        },
        "gather": {
          "logged": 1726612441418
        }
      }
    },
    {
      "cell_type": "markdown",
      "source": [
        "##### h) [0,5 pt] Qual é a fração estimada da população de enfermeiros da região que tem salário de, no \n",
        "##### máximo, R$ 4.500? [5 casas decimais]\n"
      ],
      "metadata": {
        "nteract": {
          "transient": {
            "deleting": false
          }
        }
      }
    },
    {
      "cell_type": "code",
      "source": [
        "# Contar o número de enfermeiros com salário de no máximo R$ 4.500\n",
        "num_ate_4500 = len(df[df['Salário Bruto'] <= 4500])\n",
        "\n",
        "# Contar o total de enfermeiros\n",
        "total_enfermeiros = len(df)\n",
        "\n",
        "# Calcular a fração estimada\n",
        "fracao_estimada = num_ate_4500 / total_enfermeiros\n",
        "\n",
        "# Exibir a fração estimada com 5 casas decimais\n",
        "print(f\"A fração estimada da população de enfermeiros com salário de no máximo R$ 4.500 é: {fracao_estimada:.5f}\")"
      ],
      "outputs": [
        {
          "output_type": "stream",
          "name": "stdout",
          "text": "A fração estimada da população de enfermeiros com salário de no máximo R$ 4.500 é: 0.44118\n"
        }
      ],
      "execution_count": 21,
      "metadata": {
        "jupyter": {
          "source_hidden": false,
          "outputs_hidden": false
        },
        "nteract": {
          "transient": {
            "deleting": false
          }
        },
        "gather": {
          "logged": 1726612498874
        }
      }
    },
    {
      "cell_type": "markdown",
      "source": [
        "##### i) [0,5 pt] Qual é o limite inferior do intervalo que contem 20% dos enfermeiros da população \n",
        "##### igualmente distribuídos em torno da média? [2 casas decimais]\n",
        "##### "
      ],
      "metadata": {
        "nteract": {
          "transient": {
            "deleting": false
          }
        }
      }
    },
    {
      "cell_type": "code",
      "source": [
        "# Calcular a média e o desvio padrão\n",
        "media = df['Salário Bruto'].mean()\n",
        "desvio_padrao = df['Salário Bruto'].std()\n",
        "\n",
        "# Valor crítico Z para 10% em cada lado (80% central)\n",
        "z = stats.norm.ppf(0.90)  # Percentil 90%\n",
        "\n",
        "# Calcular o limite inferior do intervalo\n",
        "limite_inferior = media - z * desvio_padrao\n",
        "\n",
        "# Exibir o limite inferior com 2 casas decimais\n",
        "print(f\"O limite inferior do intervalo que contém 20% dos enfermeiros é: {limite_inferior:.2f}\")"
      ],
      "outputs": [
        {
          "output_type": "stream",
          "name": "stdout",
          "text": "O limite inferior do intervalo que contém 20% dos enfermeiros é: 3421.45\n"
        }
      ],
      "execution_count": 22,
      "metadata": {
        "jupyter": {
          "source_hidden": false,
          "outputs_hidden": false
        },
        "nteract": {
          "transient": {
            "deleting": false
          }
        },
        "gather": {
          "logged": 1726612545544
        }
      }
    },
    {
      "cell_type": "markdown",
      "source": [
        "##### j) [0,5 pt] Qual é o limite superior do intervalo que contem 20% dos enfermeiros da população \n",
        "##### igualmente distribuídos em torno da média? [2 casas decimais]"
      ],
      "metadata": {
        "nteract": {
          "transient": {
            "deleting": false
          }
        }
      }
    },
    {
      "cell_type": "code",
      "source": [
        "# Valor crítico Z para 10% em cada lado (80% central)\n",
        "z = stats.norm.ppf(0.90)  # Percentil 90%\n",
        "\n",
        "# Calcular o limite superior do intervalo\n",
        "limite_superior = media + z * desvio_padrao\n",
        "\n",
        "# Exibir o limite superior com 2 casas decimais\n",
        "print(f\"O limite superior do intervalo que contém 20% dos enfermeiros é: {limite_superior:.2f}\")"
      ],
      "outputs": [
        {
          "output_type": "stream",
          "name": "stdout",
          "text": "O limite superior do intervalo que contém 20% dos enfermeiros é: 5933.72\n"
        }
      ],
      "execution_count": 23,
      "metadata": {
        "jupyter": {
          "source_hidden": false,
          "outputs_hidden": false
        },
        "nteract": {
          "transient": {
            "deleting": false
          }
        },
        "gather": {
          "logged": 1726612674171
        }
      }
    },
    {
      "cell_type": "markdown",
      "source": [
        "##### k) [0,5 pt] Qual é o limite inferior do intervalo que contem 15% dos enfermeiros da população abaixo \n",
        "##### de R$ 4.500 e 25% acima de R$ 4.500? [2 casas decimais]\n",
        "##### "
      ],
      "metadata": {
        "nteract": {
          "transient": {
            "deleting": false
          }
        }
      }
    },
    {
      "cell_type": "code",
      "source": [
        "# Definir o salário de referência\n",
        "salario_referencia = 4500\n",
        "\n",
        "# Calcular o desvio padrão\n",
        "desvio_padrao = df['Salário Bruto'].std()\n",
        "\n",
        "# Valor crítico Z para 15% abaixo (percentil de 15%)\n",
        "z = stats.norm.ppf(0.15)\n",
        "\n",
        "# Calcular o limite inferior do intervalo\n",
        "limite_inferior = salario_referencia + z * desvio_padrao\n",
        "\n",
        "# Exibir o limite inferior com 2 casas decimais\n",
        "print(f\"O limite inferior do intervalo que contém 15% abaixo e 25% acima de R$ 4.500 é: {limite_inferior:.2f}\")"
      ],
      "outputs": [
        {
          "output_type": "stream",
          "name": "stdout",
          "text": "O limite inferior do intervalo que contém 15% abaixo e 25% acima de R$ 4.500 é: 3484.13\n"
        }
      ],
      "execution_count": 24,
      "metadata": {
        "jupyter": {
          "source_hidden": false,
          "outputs_hidden": false
        },
        "nteract": {
          "transient": {
            "deleting": false
          }
        },
        "gather": {
          "logged": 1726612753542
        }
      }
    },
    {
      "cell_type": "markdown",
      "source": [
        "##### l) [0,5 pt] Qual é o limite superior do intervalo que contem 15% dos enfermeiros da população \n",
        "##### abaixo de R$ 4.500 e 25% acima de R$ 4.500? [2 casas decimais]"
      ],
      "metadata": {
        "nteract": {
          "transient": {
            "deleting": false
          }
        }
      }
    },
    {
      "cell_type": "code",
      "source": [
        "# Valor crítico Z para 85% (percentil de 85%)\n",
        "z = stats.norm.ppf(0.85)\n",
        "\n",
        "# Calcular o limite superior do intervalo\n",
        "limite_superior = salario_referencia + z * desvio_padrao\n",
        "\n",
        "# Exibir o limite superior com 2 casas decimais\n",
        "print(f\"O limite superior do intervalo que contém 15% abaixo e 25% acima de R$ 4.500 é: {limite_superior:.2f}\")"
      ],
      "outputs": [
        {
          "output_type": "stream",
          "name": "stdout",
          "text": "O limite superior do intervalo que contém 15% abaixo e 25% acima de R$ 4.500 é: 5515.87\n"
        }
      ],
      "execution_count": 29,
      "metadata": {
        "jupyter": {
          "source_hidden": false,
          "outputs_hidden": false
        },
        "nteract": {
          "transient": {
            "deleting": false
          }
        },
        "gather": {
          "logged": 1726612842100
        }
      }
    },
    {
      "cell_type": "markdown",
      "source": [
        "##### m) [0,5 pt] Caso um dos valores de salário pesquisados do estado Rio Grande do Sul fosse sorteado, \n",
        "##### qual seria a probabilidade de o valor sorteado ser inferior a R$ 5.000? [5 casas decimais]"
      ],
      "metadata": {
        "nteract": {
          "transient": {
            "deleting": false
          }
        }
      }
    },
    {
      "cell_type": "code",
      "source": [
        "# Filtrar os dados do estado do Rio Grande do Sul (RS)\n",
        "df_rs = df[df['Estado'] == 'RS']\n",
        "\n",
        "# Calcular a média e o desvio padrão dos salários do RS\n",
        "media_rs = df_rs['Salário Bruto'].mean()\n",
        "desvio_padrao_rs = df_rs['Salário Bruto'].std()\n",
        "\n",
        "# Valor para calcular a probabilidade (R$ 5.000)\n",
        "salario_valor = 5000\n",
        "\n",
        "# Calcular o Z-score\n",
        "z = (salario_valor - media_rs) / desvio_padrao_rs\n",
        "\n",
        "# Calcular a probabilidade de o salário ser inferior a R$ 5.000\n",
        "probabilidade = stats.norm.cdf(z)\n",
        "\n",
        "# Exibir a probabilidade com 5 casas decimais\n",
        "print(f\"A probabilidade de o salário sorteado ser inferior a R$ 5.000 é: {probabilidade:.5f}\")"
      ],
      "outputs": [
        {
          "output_type": "stream",
          "name": "stdout",
          "text": "A probabilidade de o salário sorteado ser inferior a R$ 5.000 é: 0.65700\n"
        }
      ],
      "execution_count": 30,
      "metadata": {
        "jupyter": {
          "source_hidden": false,
          "outputs_hidden": false
        },
        "nteract": {
          "transient": {
            "deleting": false
          }
        },
        "gather": {
          "logged": 1726612890540
        }
      }
    },
    {
      "cell_type": "markdown",
      "source": [
        "##### n) [0,5 pt] Caso um dos valores de salário pesquisados do estado Santa Catariana fosse sorteado, qual \n",
        "##### seria a probabilidade de o valor sorteado estar entre R$ 4.500 e R$ 5.000? [5 casas decimais]\n",
        "##### "
      ],
      "metadata": {
        "nteract": {
          "transient": {
            "deleting": false
          }
        }
      }
    },
    {
      "cell_type": "code",
      "source": [
        "# Filtrar os dados do estado de Santa Catarina (SC)\n",
        "df_sc = df[df['Estado'] == 'SC']\n",
        "\n",
        "# Calcular a média e o desvio padrão dos salários de SC\n",
        "media_sc = df_sc['Salário Bruto'].mean()\n",
        "desvio_padrao_sc = df_sc['Salário Bruto'].std()\n",
        "\n",
        "# Definir os valores para calcular a probabilidade\n",
        "salario_inferior = 4500\n",
        "salario_superior = 5000\n",
        "\n",
        "# Calcular o Z-score para os dois valores\n",
        "z_inferior = (salario_inferior - media_sc) / desvio_padrao_sc\n",
        "z_superior = (salario_superior - media_sc) / desvio_padrao_sc\n",
        "\n",
        "# Calcular a probabilidade cumulativa para os dois valores\n",
        "probabilidade_inferior = stats.norm.cdf(z_inferior)\n",
        "probabilidade_superior = stats.norm.cdf(z_superior)\n",
        "\n",
        "# Calcular a probabilidade de o salário estar entre R$ 4.500 e R$ 5.000\n",
        "probabilidade = probabilidade_superior - probabilidade_inferior\n",
        "\n",
        "# Exibir a probabilidade com 5 casas decimais\n",
        "print(f\"A probabilidade de o salário sorteado estar entre R$ 4.500 e R$ 5.000 é: {probabilidade:.5f}\")\n"
      ],
      "outputs": [
        {
          "output_type": "stream",
          "name": "stdout",
          "text": "A probabilidade de o salário sorteado estar entre R$ 4.500 e R$ 5.000 é: 0.23207\n"
        }
      ],
      "execution_count": 31,
      "metadata": {
        "jupyter": {
          "source_hidden": false,
          "outputs_hidden": false
        },
        "nteract": {
          "transient": {
            "deleting": false
          }
        },
        "gather": {
          "logged": 1726612945046
        }
      }
    },
    {
      "cell_type": "markdown",
      "source": [
        "##### o) [0,5 pt] Caso um dos valores de salário pesquisados do estado Paraná fosse sorteado, qual seria a \n",
        "##### probabilidade de o valor sorteado ser superior a R$ 4.000? [5 casas decimais]\n",
        "##### "
      ],
      "metadata": {
        "nteract": {
          "transient": {
            "deleting": false
          }
        }
      }
    },
    {
      "cell_type": "code",
      "source": [
        "# Filtrar os dados do estado do Paraná (PR)\n",
        "df_pr = df[df['Estado'] == 'PR']\n",
        "\n",
        "# Calcular a média e o desvio padrão dos salários do Paraná\n",
        "media_pr = df_pr['Salário Bruto'].mean()\n",
        "desvio_padrao_pr = df_pr['Salário Bruto'].std()\n",
        "\n",
        "# Valor para calcular a probabilidade (R$ 4.000)\n",
        "salario_valor = 4000\n",
        "\n",
        "# Calcular o Z-score\n",
        "z = (salario_valor - media_pr) / desvio_padrao_pr\n",
        "\n",
        "# Calcular a probabilidade cumulativa de o salário ser inferior a R$ 4.000\n",
        "probabilidade_inferior = stats.norm.cdf(z)\n",
        "\n",
        "# Calcular a probabilidade de o salário ser superior a R$ 4.000\n",
        "probabilidade_superior = 1 - probabilidade_inferior\n",
        "\n",
        "# Exibir a probabilidade com 5 casas decimais\n",
        "print(f\"A probabilidade de o salário sorteado ser superior a R$ 4.000 é: {probabilidade_superior:.5f}\")"
      ],
      "outputs": [
        {
          "output_type": "stream",
          "name": "stdout",
          "text": "A probabilidade de o salário sorteado ser superior a R$ 4.000 é: 0.74161\n"
        }
      ],
      "execution_count": 32,
      "metadata": {
        "jupyter": {
          "source_hidden": false,
          "outputs_hidden": false
        },
        "nteract": {
          "transient": {
            "deleting": false
          }
        },
        "gather": {
          "logged": 1726613004292
        }
      }
    },
    {
      "cell_type": "markdown",
      "source": [
        "##### 2. Reconsidere os dados da Questão 1. Segundo uma entidade da classe dos enfermeiros, o piso salarial em \n",
        "##### 2023 deveria ser de R$ 4.610. Faça as questões a seguir a partir do modelamento por Distribuição \n",
        "##### Normal, utilizando o valor da média amostral para estimar o valor da média populacional (μ ≅ x̅), além \n",
        "##### do valor do desvio-padrão amostral para estimar o desvio-padrão populacional (σ ≅ s ). Não utilize \n",
        "##### arredondamentos para os valores da média e do desvio-padrão."
      ],
      "metadata": {
        "nteract": {
          "transient": {
            "deleting": false
          }
        }
      }
    },
    {
      "cell_type": "markdown",
      "source": [
        "##### a) [0,5 pt] Qual é a fração estimada da população de enfermeiros do estado Rio Grande do Sul que \n",
        "##### tem salário equivalente a esse piso ou mais? [5 casas decimais]"
      ],
      "metadata": {
        "nteract": {
          "transient": {
            "deleting": false
          }
        }
      }
    },
    {
      "cell_type": "markdown",
      "source": [
        "Primeira tentativa"
      ],
      "metadata": {
        "nteract": {
          "transient": {
            "deleting": false
          }
        }
      }
    },
    {
      "cell_type": "code",
      "source": [
        "# Filtrar os dados do estado do Rio Grande do Sul (RS)\n",
        "df_rs = df[df['Estado'] == 'RS']\n",
        "\n",
        "# Calcular a média e o desvio padrão dos salários do RS\n",
        "media_rs = df_rs['Salário Bruto'].mean()\n",
        "desvio_padrao_rs = df_rs['Salário Bruto'].std()\n",
        "\n",
        "# Valor do piso salarial\n",
        "piso_salarial = 4610\n",
        "\n",
        "# Calcular o Z-score\n",
        "z = (piso_salarial - media_rs) / desvio_padrao_rs\n",
        "\n",
        "# Calcular a probabilidade cumulativa de o salário ser inferior a R$ 4.610\n",
        "probabilidade_inferior = stats.norm.cdf(z)\n",
        "\n",
        "# Calcular a probabilidade de o salário ser igual ou superior a R$ 4.610\n",
        "probabilidade_superior = 1 - probabilidade_inferior\n",
        "\n",
        "# Exibir a fração estimada com 5 casas decimais\n",
        "print(f\"A fração estimada da população de enfermeiros do RS com salário igual ou superior a R$ 4.610 é: {probabilidade_superior:.5f}\")"
      ],
      "outputs": [
        {
          "output_type": "stream",
          "name": "stdout",
          "text": "A fração estimada da população de enfermeiros do RS com salário igual ou superior a R$ 4.610 é: 0.48072\n"
        }
      ],
      "execution_count": 33,
      "metadata": {
        "jupyter": {
          "source_hidden": false,
          "outputs_hidden": false
        },
        "nteract": {
          "transient": {
            "deleting": false
          }
        },
        "gather": {
          "logged": 1726613178483
        }
      }
    },
    {
      "cell_type": "markdown",
      "source": [
        "Segunda tentativa"
      ],
      "metadata": {
        "nteract": {
          "transient": {
            "deleting": false
          }
        }
      }
    },
    {
      "cell_type": "markdown",
      "source": [
        "##### b) [0,5 pt] Qual é a fração estimada da população de enfermeiros do estado Santa Catarina que tem \n",
        "##### salário equivalente a esse piso ou mais? [5 casas decimais]"
      ],
      "metadata": {
        "nteract": {
          "transient": {
            "deleting": false
          }
        }
      }
    },
    {
      "cell_type": "code",
      "source": [
        "# Filtrar os dados do estado de Santa Catarina (SC)\n",
        "df_sc = df[df['Estado'] == 'SC']\n",
        "\n",
        "# Calcular a média e o desvio padrão dos salários de SC\n",
        "media_sc = df_sc['Salário Bruto'].mean()\n",
        "desvio_padrao_sc = df_sc['Salário Bruto'].std()\n",
        "\n",
        "# Valor do piso salarial\n",
        "piso_salarial = 4610\n",
        "\n",
        "# Calcular o Z-score\n",
        "z = (piso_salarial - media_sc) / desvio_padrao_sc\n",
        "\n",
        "# Calcular a probabilidade cumulativa de o salário ser inferior a R$ 4.610\n",
        "probabilidade_inferior = stats.norm.cdf(z)\n",
        "\n",
        "# Calcular a probabilidade de o salário ser igual ou superior a R$ 4.610\n",
        "probabilidade_superior = 1 - probabilidade_inferior\n",
        "\n",
        "# Exibir a fração estimada com 5 casas decimais\n",
        "print(f\"A fração estimada da população de enfermeiros de SC com salário igual ou superior a R$ 4.610 é: {probabilidade_superior:.5f}\")"
      ],
      "outputs": [
        {
          "output_type": "stream",
          "name": "stdout",
          "text": "A fração estimada da população de enfermeiros de SC com salário igual ou superior a R$ 4.610 é: 0.61277\n"
        }
      ],
      "execution_count": 34,
      "metadata": {
        "jupyter": {
          "source_hidden": false,
          "outputs_hidden": false
        },
        "nteract": {
          "transient": {
            "deleting": false
          }
        },
        "gather": {
          "logged": 1726613233618
        }
      }
    },
    {
      "cell_type": "markdown",
      "source": [
        "##### c) [0,5 pt] Qual é a fração estimada da população de enfermeiros do estado Paraná que tem salário \n",
        "##### equivalente a esse piso ou mais? [5 casas decimais]\n",
        "##### "
      ],
      "metadata": {
        "nteract": {
          "transient": {
            "deleting": false
          }
        }
      }
    },
    {
      "cell_type": "code",
      "source": [
        "df_pr = df[df['Estado'] == 'PR']\n",
        "\n",
        "# Calcular a média e o desvio padrão dos salários do PR\n",
        "media_pr = df_pr['Salário Bruto'].mean()\n",
        "desvio_padrao_pr = df_pr['Salário Bruto'].std()\n",
        "\n",
        "# Valor do piso salarial\n",
        "piso_salarial = 4610\n",
        "\n",
        "# Calcular o Z-score\n",
        "z = (piso_salarial - media_pr) / desvio_padrao_pr\n",
        "\n",
        "# Calcular a probabilidade cumulativa de o salário ser inferior a R$ 4.610\n",
        "probabilidade_inferior = stats.norm.cdf(z)\n",
        "\n",
        "# Calcular a probabilidade de o salário ser igual ou superior a R$ 4.610\n",
        "probabilidade_superior = 1 - probabilidade_inferior\n",
        "\n",
        "# Exibir a fração estimada com 5 casas decimais\n",
        "print(f\"A fração estimada da população de enfermeiros do PR com salário igual ou superior a R$ 4.610 é: {probabilidade_superior:.5f}\")"
      ],
      "outputs": [
        {
          "output_type": "stream",
          "name": "stdout",
          "text": "A fração estimada da população de enfermeiros do PR com salário igual ou superior a R$ 4.610 é: 0.52045\n"
        }
      ],
      "execution_count": 35,
      "metadata": {
        "jupyter": {
          "source_hidden": false,
          "outputs_hidden": false
        },
        "nteract": {
          "transient": {
            "deleting": false
          }
        },
        "gather": {
          "logged": 1726613280902
        }
      }
    },
    {
      "cell_type": "markdown",
      "source": [
        "##### 3. Reconsidere os dados da Questão 1, somente para os enfermeiros do estado Rio Grande do Sul. Como \n",
        "##### o número de medidas no conjunto de dados é reduzido, faça as questões a seguir a partir do modelamento \n",
        "##### por Distribuição 𝑡. Além disso, é conhecido o número total de enfermeiros no estado, que no momento \n",
        "##### de pesquisa, era de 90.081 profissionais."
      ],
      "metadata": {
        "nteract": {
          "transient": {
            "deleting": false
          }
        }
      }
    },
    {
      "cell_type": "markdown",
      "source": [
        "##### a) [0,5 pt] Qual é o 𝑝-valor do teste de Shapiro-Wilk para este conjunto de dados reduzido? [pelo\n",
        "##### menos 5 casas decimais]\n",
        "##### "
      ],
      "metadata": {
        "nteract": {
          "transient": {
            "deleting": false
          }
        }
      }
    },
    {
      "cell_type": "code",
      "source": [
        "# Filtrar os dados do estado do Rio Grande do Sul (RS)\n",
        "df_rs = df[df['Estado'] == 'RS']\n",
        "\n",
        "# Extrair a coluna de salários\n",
        "salarios_rs = df_rs['Salário Bruto']\n",
        "\n",
        "# Realizar o teste de Shapiro-Wilk\n",
        "stat, p_valor = stats.shapiro(salarios_rs)\n",
        "\n",
        "# Exibir o p-valor com pelo menos 5 casas decimais\n",
        "print(f\"O p-valor do teste de Shapiro-Wilk é: {p_valor:.5f}\")"
      ],
      "outputs": [
        {
          "output_type": "stream",
          "name": "stdout",
          "text": "O p-valor do teste de Shapiro-Wilk é: 0.64408\n"
        }
      ],
      "execution_count": 36,
      "metadata": {
        "jupyter": {
          "source_hidden": false,
          "outputs_hidden": false
        },
        "nteract": {
          "transient": {
            "deleting": false
          }
        },
        "gather": {
          "logged": 1726613343916
        }
      }
    },
    {
      "cell_type": "markdown",
      "source": [
        "##### b) [0,5 pt] Qual é o erro máximo cometido, ao nível de 5%, na estimativa do salário médio dos \n",
        "##### enfermeiros desse estado? [2 casas decimais]\n",
        "##### "
      ],
      "metadata": {
        "nteract": {
          "transient": {
            "deleting": false
          }
        }
      }
    },
    {
      "cell_type": "code",
      "source": [
        "# Filtrar os dados do estado do Rio Grande do Sul (RS)\n",
        "df_rs = df[df['Estado'] == 'RS']\n",
        "\n",
        "# Calcular a média e o desvio padrão dos salários\n",
        "media_rs = df_rs['Salário Bruto'].mean()\n",
        "desvio_padrao_rs = df_rs['Salário Bruto'].std()\n",
        "\n",
        "# Número de observações (n)\n",
        "n = len(df_rs)\n",
        "\n",
        "# Nível de confiança (95%) e graus de liberdade (n - 1)\n",
        "nivel_confianca = 0.95\n",
        "graus_liberdade = n - 1\n",
        "\n",
        "# Valor crítico t para o nível de confiança\n",
        "t_critico = stats.t.ppf(1 - (1 - nivel_confianca) / 2, graus_liberdade)\n",
        "\n",
        "# Calcular o erro máximo\n",
        "erro_maximo = t_critico * (desvio_padrao_rs / np.sqrt(n))\n",
        "\n",
        "# Exibir o erro máximo com 2 casas decimais\n",
        "print(f\"O erro máximo cometido ao nível de 5% é: {erro_maximo:.2f}\")"
      ],
      "outputs": [
        {
          "output_type": "stream",
          "name": "stdout",
          "text": "O erro máximo cometido ao nível de 5% é: 662.09\n"
        }
      ],
      "execution_count": 37,
      "metadata": {
        "jupyter": {
          "source_hidden": false,
          "outputs_hidden": false
        },
        "nteract": {
          "transient": {
            "deleting": false
          }
        },
        "gather": {
          "logged": 1726613381846
        }
      }
    },
    {
      "cell_type": "markdown",
      "source": [
        "##### c) [1,0 pt] Qual deveria ser o número de salários de enfermeiros consultados desse estado para que \n",
        "##### o erro máximo fosse de R$ 50 na estimativa do salário médio dos enfermeiros desse estado, ao \n",
        "##### nível de 5%? [valor inteiro]"
      ],
      "metadata": {
        "nteract": {
          "transient": {
            "deleting": false
          }
        }
      }
    },
    {
      "cell_type": "code",
      "source": [
        "# Filtrar os dados do estado do Rio Grande do Sul (RS)\n",
        "df_rs = df[df['Estado'] == 'RS']\n",
        "\n",
        "# Calcular o desvio padrão dos salários\n",
        "desvio_padrao_rs = df_rs['Salário Bruto'].std()\n",
        "\n",
        "# Nível de confiança (95%)\n",
        "nivel_confianca = 0.95\n",
        "\n",
        "# Estimativa inicial para o valor crítico t (aproximado por z para n grande)\n",
        "t_critico = stats.norm.ppf(1 - (1 - nivel_confianca) / 2)\n",
        "\n",
        "# Erro máximo desejado\n",
        "erro_maximo = 50\n",
        "\n",
        "# Calcular o número de amostras necessárias\n",
        "n = (t_critico * desvio_padrao_rs / erro_maximo) ** 2\n",
        "\n",
        "# Arredondar o número de amostras para o valor inteiro mais próximo\n",
        "n = int(np.ceil(n))\n",
        "\n",
        "# Exibir o número de amostras necessárias\n",
        "print(f\"O número de salários de enfermeiros necessários para um erro máximo de R$ 50 é: {n}\")"
      ],
      "outputs": [
        {
          "output_type": "stream",
          "name": "stdout",
          "text": "O número de salários de enfermeiros necessários para um erro máximo de R$ 50 é: 1845\n"
        }
      ],
      "execution_count": 39,
      "metadata": {
        "jupyter": {
          "source_hidden": false,
          "outputs_hidden": false
        },
        "nteract": {
          "transient": {
            "deleting": false
          }
        },
        "gather": {
          "logged": 1726616382961
        }
      }
    }
  ],
  "metadata": {
    "kernelspec": {
      "name": "python310-sdkv2",
      "language": "python",
      "display_name": "Python 3.10 - SDK v2"
    },
    "language_info": {
      "name": "python",
      "version": "3.10.11",
      "mimetype": "text/x-python",
      "codemirror_mode": {
        "name": "ipython",
        "version": 3
      },
      "pygments_lexer": "ipython3",
      "nbconvert_exporter": "python",
      "file_extension": ".py"
    },
    "kernel_info": {
      "name": "python310-sdkv2"
    },
    "microsoft": {
      "host": {
        "AzureML": {
          "notebookHasBeenCompleted": true
        }
      }
    },
    "nteract": {
      "version": "nteract-front-end@1.0.0"
    }
  },
  "nbformat": 4,
  "nbformat_minor": 2
}